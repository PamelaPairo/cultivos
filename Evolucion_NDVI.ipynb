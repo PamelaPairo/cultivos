{
 "cells": [
  {
   "cell_type": "markdown",
   "id": "291c882f",
   "metadata": {},
   "source": [
    "# Cambio de los valores de NDVI a lo largo del tiempo\n",
    "**Autora: Pamela E. Pairo**\n",
    "\n",
    "El siguiente documento muestran cómo calcular y visualizar los cambios del NDVI a lo largo del tiempo de campos agrícolas de interés."
   ]
  },
  {
   "cell_type": "markdown",
   "id": "9a4e1ac5",
   "metadata": {},
   "source": [
    "## En un único campo agrícola\n",
    "\n",
    "Se realiza primero la carga de las librerias necesarias y se definen una serie de funciones que se usarán a lo largo del documento."
   ]
  },
  {
   "cell_type": "code",
   "execution_count": null,
   "id": "adbe6438",
   "metadata": {},
   "outputs": [],
   "source": [
    "import os\n",
    "import ee\n",
    "import geemap\n",
    "import pandas as pd\n",
    "import numpy as np\n",
    "import seaborn as sns\n",
    "import matplotlib.pyplot as plt\n",
    "import matplotlib.dates as mdates\n",
    "from datetime import datetime\n",
    "\n",
    "def getNDVI(image):\n",
    "    return image.addBands(image.normalizedDifference(['B8','B4']).rename('NDVI'))\n",
    "\n",
    "def make_point_mean (fechaInicio, fechaFin, poi):\n",
    "    \n",
    "    collection = ee.ImageCollection(\"COPERNICUS/S2\") \\\n",
    "    .filterBounds(poi) \\\n",
    "    .filterDate(fechaInicio,fechaFin) \\\n",
    "    .filter(ee.Filter.lt('CLOUDY_PIXEL_PERCENTAGE', 5)) \\\n",
    "    .select('B3','B4', 'B5', 'B6','B7', 'B8', 'B8A') \\\n",
    "    .map(getNDVI)\n",
    "    \n",
    "    def poi_mean(img):\n",
    "        mean = img.reduceRegion(reducer=ee.Reducer.mean(), geometry=poi, scale=10).get('NDVI')\n",
    "        return img.set('date', img.date().format()).set('mean', mean)\n",
    "    \n",
    "    nested_list= collection.map(poi_mean).reduceColumns(ee.Reducer.toList(2), ['date','mean']).values().get(0)\n",
    "    df= pd.DataFrame(nested_list.getInfo(), columns=['date','mean'])\n",
    "    df['date'] = pd.to_datetime(df['date'])\n",
    "    return df\n",
    "\n",
    "def NDVI_categorized(x):\n",
    "    if -1 < x <= 0.1:\n",
    "        return 'Nube'\n",
    "    elif 0.1 < x <= 0.3:\n",
    "        return 'Sin Actividad'\n",
    "    elif 0.3 < x <= 0.55:\n",
    "        return 'Actividad Moderada'\n",
    "    return 'Actividad Alta'"
   ]
  },
  {
   "cell_type": "code",
   "execution_count": null,
   "id": "effdfc82",
   "metadata": {},
   "outputs": [],
   "source": [
    "# Authenticate the Google earth engine with google account\n",
    "ee.Initialize()"
   ]
  },
  {
   "cell_type": "markdown",
   "id": "a0452fa9",
   "metadata": {},
   "source": [
    "Se selecciona un campo agrícola en el mapa, se dibuja un punto en el mismo y luego se extrae la información de su latitud y longitud. Luego, se genera el `poi`, el cual es un circulo de radio a definir (en este ejemplo se selecciona un radio de 50m) cuyo centro está dado por las coordenadas del punto en el campo agrícola. Para tener resultados más claros y con menos ruido, es importante localizar `poi` en un área homogenea y no por ejemplo posicionar `poi` en el borde de dos campos agrícolas consecutivos."
   ]
  },
  {
   "cell_type": "code",
   "execution_count": null,
   "id": "ac283f68",
   "metadata": {},
   "outputs": [],
   "source": [
    "#campo de trigo en la campaña de invierno de 2019, según información provista por INTA\n",
    "poi = ee.Geometry.Point([-60.4369,-33.9438]).buffer(50)"
   ]
  },
  {
   "cell_type": "markdown",
   "id": "107c866d",
   "metadata": {},
   "source": [
    "A continuación se muestra la localización de `poi` y la imagen Sentinel-2 de Septiembre de 2019 en una combinación de bandas 11-8-3."
   ]
  },
  {
   "cell_type": "code",
   "execution_count": null,
   "id": "3ea2e907",
   "metadata": {},
   "outputs": [],
   "source": [
    "paises = ee.FeatureCollection(\"FAO/GAUL/2015/level2\")\n",
    "pais = paises.filter(ee.Filter.eq('ADM0_NAME', 'Argentina'))\n",
    "prov = pais.filter(ee.Filter.eq('ADM1_NAME', 'Buenos Aires'))\n",
    "Pergamino = prov.filter(ee.Filter.eq('ADM2_NAME', 'Pergamino'))\n",
    "\n",
    "fechaInicio = '2019-09-01'\n",
    "fechaFin = '2019-09-16'\n",
    "\n",
    "image = ee.ImageCollection(\"COPERNICUS/S2\") \\\n",
    "    .filterBounds(Pergamino) \\\n",
    "    .filterDate(fechaInicio,fechaFin) \\\n",
    "    .filter(ee.Filter.lt('CLOUDY_PIXEL_PERCENTAGE', 5)) \\\n",
    "    .select('B2', 'B3','B4', 'B5', 'B6','B7', 'B8', 'B8A', 'B11') \\\n",
    "    .map(lambda image: image.clip(Pergamino))\n",
    "\n",
    "vis_params = {\n",
    "    'min': 0,\n",
    "    'max': 3000,\n",
    "    'bands': ['B11','B8', 'B3']\n",
    "}\n",
    "Map = geemap.Map()\n",
    "Map.centerObject(Pergamino, 10)\n",
    "Map.addLayer(image, vis_params, \"Sep 2019-Sentinel2\")\n",
    "Map.addLayer(poi, {}, 'poi')\n",
    "Map"
   ]
  },
  {
   "cell_type": "markdown",
   "id": "80e80a95",
   "metadata": {},
   "source": [
    "Luego, se selecciona imágenes Sentinel-2 de un rango de fechas y se calcula la media del NDVI dentro `poi` para cada imagen. Posterirmente, se realiza la categorización de los valores de NDVI."
   ]
  },
  {
   "cell_type": "code",
   "execution_count": null,
   "id": "7d9f562d",
   "metadata": {},
   "outputs": [],
   "source": [
    "fechaInicio = '2018-06-16'\n",
    "fechaFin = '2021-08-20'\n",
    "df_p1= make_point_mean (fechaInicio, fechaFin, poi)\n",
    "df_p1['categ'] = df_p1['mean'].apply(NDVI_categorized)"
   ]
  },
  {
   "cell_type": "markdown",
   "id": "fe6e3424",
   "metadata": {},
   "source": [
    "Se realiza un gráfico para visualizar los resultados obtenidos."
   ]
  },
  {
   "cell_type": "code",
   "execution_count": null,
   "id": "f26a3607",
   "metadata": {},
   "outputs": [],
   "source": [
    "fig, ax = plt.subplots(figsize=(15,7))\n",
    "\n",
    "sns.scatterplot(data=df_p1, \n",
    "                x=\"date\", \n",
    "                y=\"mean\", \n",
    "                hue= \"categ\", \n",
    "                hue_order=['Actividad Alta', 'Actividad Moderada', 'Sin Actividad', 'Nube'])\n",
    "\n",
    "ax.set_ylabel('NDVI',fontsize=20)\n",
    "ax.set_xlabel('Fecha',fontsize=20)\n",
    "ax.set_title('Cambio de los valores de NDVI para un campo agrícola \\n (Junio 2016- Agosto 2021)', fontsize=20)\n",
    "ax.set_ylim([0, 0.9])\n",
    "plt.legend(title= \"Actividad fotosintética\", loc=\"upper left\")\n",
    "\n",
    "plt.gca().xaxis.set_major_locator(mdates.MonthLocator(interval=2)) \n",
    "plt.gca().xaxis.set_minor_locator(mdates.MonthLocator())\n",
    "plt.gca().xaxis.set_major_formatter(mdates.DateFormatter(\"%Y-%m\"))\n",
    "plt.gcf().autofmt_xdate()"
   ]
  },
  {
   "cell_type": "markdown",
   "id": "c845debf",
   "metadata": {},
   "source": [
    "## En varios campos agrícolas a la vez"
   ]
  },
  {
   "cell_type": "markdown",
   "id": "f07cc282",
   "metadata": {},
   "source": [
    "En ocasiones resulta conveniente visualizar los cambios del NDVI en varios campos agrícolas a la vez. Primero, se definen los puntos a evaluar. En este caso, se establecieron dos campos agrícolas y un sitio ribereño como punto de control."
   ]
  },
  {
   "cell_type": "code",
   "execution_count": null,
   "id": "ca2b5533",
   "metadata": {},
   "outputs": [],
   "source": [
    "control_ribera = ee.Geometry.Point([-60.2389,-33.7471]).buffer(50)# sitio ribereño\n",
    "poi_1 = ee.Geometry.Point([-60.2237,-33.7949]).buffer(50)#campo de trigo en septiembre de 2019 según Inta\n",
    "poi_2 = ee.Geometry.Point([-60.2882,-33.6918]).buffer(50)#campo de trigo en septiembre de 2019 según Inta\n",
    "\n",
    "#Se ponen todos los puntos en una lista\n",
    "puntos = [control_ribera, poi_1, poi_2]"
   ]
  },
  {
   "cell_type": "markdown",
   "id": "5a3315ca",
   "metadata": {},
   "source": [
    "Para cada punto de la lista, se calcula el NDVI en el período especificado y se arma un único _dataframe_"
   ]
  },
  {
   "cell_type": "code",
   "execution_count": null,
   "id": "0bae2dd1",
   "metadata": {},
   "outputs": [],
   "source": [
    "fechaInicio = '2018-06-16'\n",
    "fechaFin = '2021-08-20'\n",
    "\n",
    "list_of_dfs = []\n",
    "num = -4\n",
    "\n",
    "for point in puntos:\n",
    "    calc=make_point_mean (fechaInicio, fechaFin, point)\n",
    "    list_of_dfs.append(calc)\n",
    "    for punto in list_of_dfs:\n",
    "        num += 1\n",
    "        punto['Punto']= f'Campo {num}'\n",
    "    df_puntos = pd.concat(list_of_dfs).reset_index(drop=True)"
   ]
  },
  {
   "cell_type": "markdown",
   "id": "ee60b556",
   "metadata": {},
   "source": [
    "Para una mejor visualización de los resultados, la temporada de verano es representada como franjas de color verde claro. \"Campo 0\" corresponde al sitio de control (sitio ribereño)."
   ]
  },
  {
   "cell_type": "code",
   "execution_count": null,
   "id": "b9eda67f",
   "metadata": {},
   "outputs": [],
   "source": [
    "a = '2018-10'\n",
    "b = '2019-04'\n",
    "c= '2019-10'\n",
    "d= '2020-04'\n",
    "e= '2020-10'\n",
    "f= '2021-04'\n",
    "\n",
    "sns.relplot(data=df_puntos, x = 'date', y = 'mean', kind = 'line', hue = 'Punto',\\\n",
    "            palette = ['red', 'blue', \"green\"],\\\n",
    "            height=5, aspect=2.3)\n",
    "plt.axvspan(a, b, color='y', alpha=0.5, lw=0)\n",
    "plt.axvspan(c, d, color='y', alpha=0.5, lw=0)\n",
    "plt.axvspan(e, f, color='y', alpha=0.5, lw=0)\n",
    "\n",
    "plt.gca().xaxis.set_major_locator(mdates.MonthLocator(interval=2)) \n",
    "plt.gca().xaxis.set_minor_locator(mdates.MonthLocator())\n",
    "plt.gca().xaxis.set_major_formatter(mdates.DateFormatter(\"%Y-%m\"))\n",
    "plt.gcf().autofmt_xdate()\n",
    "plt.xlabel(\" \")\n",
    "plt.ylabel(\"NDVI medio\", fontsize=10)\n",
    "#plt.savefig('NDVI_evolución.jpg', dpi=160)#descomentar para guardar el grafico como .jpg"
   ]
  }
 ],
 "metadata": {
  "kernelspec": {
   "display_name": "Python 3",
   "language": "python",
   "name": "python3"
  },
  "language_info": {
   "codemirror_mode": {
    "name": "ipython",
    "version": 3
   },
   "file_extension": ".py",
   "mimetype": "text/x-python",
   "name": "python",
   "nbconvert_exporter": "python",
   "pygments_lexer": "ipython3",
   "version": "3.9.5"
  },
  "toc": {
   "base_numbering": 1,
   "nav_menu": {},
   "number_sections": false,
   "sideBar": true,
   "skip_h1_title": false,
   "title_cell": "Table of Contents",
   "title_sidebar": "Contents",
   "toc_cell": false,
   "toc_position": {},
   "toc_section_display": true,
   "toc_window_display": false
  }
 },
 "nbformat": 4,
 "nbformat_minor": 5
}
